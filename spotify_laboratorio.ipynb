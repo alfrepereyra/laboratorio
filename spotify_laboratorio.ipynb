{
  "nbformat": 4,
  "nbformat_minor": 0,
  "metadata": {
    "colab": {
      "provenance": [],
      "mount_file_id": "1MwgKarNiJj9tdx-dvpxMvUn9MmclA6TN",
      "authorship_tag": "ABX9TyPUI24yJZURfcXVjFYAgs+y",
      "include_colab_link": true
    },
    "kernelspec": {
      "name": "python3",
      "display_name": "Python 3"
    },
    "language_info": {
      "name": "python"
    }
  },
  "cells": [
    {
      "cell_type": "markdown",
      "metadata": {
        "id": "view-in-github",
        "colab_type": "text"
      },
      "source": [
        "<a href=\"https://colab.research.google.com/github/alfrepereyra/laboratorio/blob/main/spotify_laboratorio.ipynb\" target=\"_parent\"><img src=\"https://colab.research.google.com/assets/colab-badge.svg\" alt=\"Open In Colab\"/></a>"
      ]
    },
    {
      "cell_type": "markdown",
      "source": [
        "\n",
        "\n",
        "necesito normalizar los datos de este csv y crear un nuevo dataframe, lo primero quitar todos los datos nulos o Nan y despues convertir todos los datos numericos a float entre 0 y 1 para poder trabajar mejor:\n",
        "\n"
      ],
      "metadata": {
        "id": "OxBdW4SQRKMQ"
      }
    },
    {
      "cell_type": "code",
      "execution_count": 27,
      "metadata": {
        "colab": {
          "base_uri": "https://localhost:8080/"
        },
        "id": "1wJQfDnTREsg",
        "outputId": "9cf88346-2ad2-479d-9810-ed26bea267ef"
      },
      "outputs": [
        {
          "output_type": "stream",
          "name": "stdout",
          "text": [
            "      Unnamed: 0  acousticness  danceability  duration_ms    energy  \\\n",
            "0              0      0.010248      0.824826       204600  0.426363   \n",
            "1              1      0.199998      0.720418       326933  0.350081   \n",
            "2              2      0.034570      0.830626       185707  0.403987   \n",
            "3              3      0.607034      0.431555       199413  0.328723   \n",
            "4              4      0.180902      0.645012       392893  0.555533   \n",
            "...          ...           ...           ...          ...       ...   \n",
            "2012        2012      0.001062      0.535963       274404  0.932872   \n",
            "2013        2013      0.088138      0.895592       182182  0.892189   \n",
            "2014        2014      0.008610      0.597448       207200  0.935924   \n",
            "2015        2015      0.001645      0.504640       185600  0.993897   \n",
            "2016        2016      0.002821      0.375870       204520  0.915582   \n",
            "\n",
            "      instrumentalness  key  liveness  loudness  mode  speechiness     tempo  \\\n",
            "0             0.022439    2  0.153862  0.741141     1     0.514441  0.596033   \n",
            "1             0.006260    1  0.124395  0.692162     1     0.071005  0.654474   \n",
            "2             0.000240    2  0.147548  0.791369     1     0.335351  0.158539   \n",
            "3             0.522541    5  0.077247  0.544709     1     0.003784  0.225162   \n",
            "4             0.524590    5  0.442223  0.654132     0     0.058393  0.735659   \n",
            "...                ...  ...       ...       ...   ...          ...       ...   \n",
            "2012          0.002756    1  0.115976  0.902592     1     0.390844  0.158142   \n",
            "2013          0.001711    1  0.035782  0.928149     1     0.136083  0.362636   \n",
            "2014          0.004088    0  0.205430  0.934126     1     0.105814  0.596150   \n",
            "2015          0.693648    1  0.076300  0.925953     1     0.138605  0.595736   \n",
            "2016          0.000040    9  0.209640  0.819640     1     0.148695  0.829022   \n",
            "\n",
            "      time_signature   valence  target                            song_title  \\\n",
            "0               0.75  0.262432       1                              Mask Off   \n",
            "1               0.75  0.577936       1                               Redbone   \n",
            "2               0.75  0.144379       1                          Xanny Family   \n",
            "3               0.75  0.203928       1                        Master Of None   \n",
            "4               0.75  0.908065       1                        Parallel Lines   \n",
            "...              ...       ...     ...                                   ...   \n",
            "2012            0.75  0.184079       0   Like A Bitch - Kill The Noise Remix   \n",
            "2013            0.75  0.869411       0                                 Candy   \n",
            "2014            0.75  0.454659       0  Habit - Dack Janiels & Wenzday Remix   \n",
            "2015            0.75  0.614501       0                         First Contact   \n",
            "2016            0.75  0.383619       0                    I Wanna Get Better   \n",
            "\n",
            "                artist  \n",
            "0               Future  \n",
            "1     Childish Gambino  \n",
            "2               Future  \n",
            "3          Beach House  \n",
            "4          Junior Boys  \n",
            "...                ...  \n",
            "2012    Kill The Noise  \n",
            "2013    Dillon Francis  \n",
            "2014          Rain Man  \n",
            "2015        Twin Moons  \n",
            "2016         Bleachers  \n",
            "\n",
            "[2017 rows x 17 columns]\n"
          ]
        }
      ],
      "source": [
        "import pandas as pd\n",
        "import plotly.express as px\n",
        "from sklearn.preprocessing import MinMaxScaler\n",
        "\n",
        "# Ruta del archivo CSV\n",
        "archivo_csv = '/content/drive/MyDrive/UPSO/laboratorio_Spotify/Canciones_Spotify.csv'\n",
        "\n",
        "# Cargar el DataFrame original desde el archivo CSV\n",
        "df = pd.read_csv(archivo_csv)\n",
        "\n",
        "# Eliminar datos nulos\n",
        "df = df.dropna()\n",
        "\n",
        "# Normalizar datos numéricos entre 0 y 1\n",
        "scaler = MinMaxScaler()\n",
        "columnas_numericas = df.select_dtypes(include=['float64']).columns\n",
        "df[columnas_numericas] = scaler.fit_transform(df[columnas_numericas])\n",
        "\n",
        "# Imprimir las primeras filas del DataFrame normalizado\n",
        "print(df)\n"
      ]
    },
    {
      "cell_type": "code",
      "source": [
        "# Seleccionar características relevantes para el diagrama de dispersión\n",
        "caracteristicas = ['danceability', 'energy', 'loudness', 'speechiness', 'acousticness',\n",
        "                   'instrumentalness', 'liveness', 'valence', 'tempo']\n",
        "\n",
        "# Crear diagramas de dispersión para cada par de características\n",
        "for i, car1 in enumerate(caracteristicas):\n",
        "    for j, car2 in enumerate(caracteristicas):\n",
        "        if car1 != car2:\n",
        "            # Crear el gráfico de dispersión con Plotly Express\n",
        "            fig = px.scatter(df, x=car1, y=car2, labels={'target': 'Target'})\n",
        "\n",
        "            # # Ajustar el tamaño del gráfico\n",
        "            # fig.update_layout(height=600, width=600, showlegend=False, title_text=f'{car1} vs {car2}')\n",
        "\n",
        "            # Mostrar el gráfico\n",
        "            fig.show()"
      ],
      "metadata": {
        "id": "OZgpV85JY8m7"
      },
      "execution_count": null,
      "outputs": []
    },
    {
      "cell_type": "code",
      "source": [
        "import pandas as pd\n",
        "import plotly.express as px\n",
        "\n",
        "# Cargar el archivo CSV en un DataFrame\n",
        "archivo_csv = '/content/drive/MyDrive/UPSO/laboratorio_Spotify/Canciones_Spotify.csv'\n",
        "df = pd.read_csv(archivo_csv)\n",
        "\n",
        "# Eliminar NaN\n",
        "df = df.dropna()\n",
        "\n",
        "# Seleccionar características relevantes para el diagrama de dispersión\n",
        "caracteristicas = ['danceability', 'energy', 'loudness', 'speechiness', 'acousticness',\n",
        "                   'instrumentalness', 'liveness', 'valence', 'tempo']\n",
        "\n",
        "# Definir el número máximo de gráficos a mostrar simultáneamente\n",
        "max_graficos = 6\n",
        "\n",
        "# Definir la cantidad máxima de puntos a mostrar en cada gráfico\n",
        "max_puntos = 500\n",
        "\n",
        "# Crear diagramas de dispersión para cada par de características\n",
        "for i in range(0, len(caracteristicas), max_graficos):\n",
        "    caracteristicas_subset = caracteristicas[i:i+max_graficos]\n",
        "\n",
        "    for car1 in caracteristicas_subset:\n",
        "        for car2 in caracteristicas_subset:\n",
        "            if car1 != car2:\n",
        "                # Crear el gráfico de dispersión con Plotly Express\n",
        "                fig = px.scatter(df.sample(min(max_puntos, len(df))), x=car1, y=car2, color='target', labels={'target': 'Target'})\n",
        "\n",
        "\n",
        "\n",
        "                # Mostrar el gráfico\n",
        "                fig.show()"
      ],
      "metadata": {
        "id": "sY5Cc7SFiRPo"
      },
      "execution_count": null,
      "outputs": []
    }
  ]
}